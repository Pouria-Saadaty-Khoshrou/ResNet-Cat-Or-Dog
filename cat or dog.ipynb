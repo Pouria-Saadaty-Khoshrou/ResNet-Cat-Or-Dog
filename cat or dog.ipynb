{
 "cells": [
  {
   "cell_type": "code",
   "execution_count": 1,
   "id": "f99c682c",
   "metadata": {},
   "outputs": [],
   "source": [
    "import numpy as np\n",
    "import pandas as pd\n",
    "import matplotlib.pyplot as plt\n",
    "import seaborn as sns\n",
    "import tensorflow\n",
    "import cv2\n",
    "import os"
   ]
  },
  {
   "cell_type": "code",
   "execution_count": 2,
   "id": "b60af3a0",
   "metadata": {},
   "outputs": [],
   "source": [
    "from keras.models import Model\n",
    "from keras.callbacks import *\n",
    "from keras.layers import Input, Dense, Flatten,Activation, BatchNormalization, Conv2D, Conv2DTranspose, MaxPooling2D, Add, AveragePooling2D\n",
    "from keras.activations import *\n",
    "from keras.datasets import cifar,cifar10,cifar100\n",
    "from keras.utils import to_categorical, plot_model\n",
    "from keras.optimizers import *"
   ]
  },
  {
   "cell_type": "code",
   "execution_count": 3,
   "id": "247dc625",
   "metadata": {},
   "outputs": [
    {
     "data": {
      "text/html": [
       "<div>\n",
       "<style scoped>\n",
       "    .dataframe tbody tr th:only-of-type {\n",
       "        vertical-align: middle;\n",
       "    }\n",
       "\n",
       "    .dataframe tbody tr th {\n",
       "        vertical-align: top;\n",
       "    }\n",
       "\n",
       "    .dataframe thead th {\n",
       "        text-align: right;\n",
       "    }\n",
       "</style>\n",
       "<table border=\"1\" class=\"dataframe\">\n",
       "  <thead>\n",
       "    <tr style=\"text-align: right;\">\n",
       "      <th></th>\n",
       "      <th>PATH</th>\n",
       "      <th>targets</th>\n",
       "    </tr>\n",
       "  </thead>\n",
       "  <tbody>\n",
       "    <tr>\n",
       "      <th>0</th>\n",
       "      <td>train/train/cat.0.jpg</td>\n",
       "      <td>cat</td>\n",
       "    </tr>\n",
       "    <tr>\n",
       "      <th>1</th>\n",
       "      <td>train/train/cat.1.jpg</td>\n",
       "      <td>cat</td>\n",
       "    </tr>\n",
       "    <tr>\n",
       "      <th>2</th>\n",
       "      <td>train/train/cat.10.jpg</td>\n",
       "      <td>cat</td>\n",
       "    </tr>\n",
       "    <tr>\n",
       "      <th>3</th>\n",
       "      <td>train/train/cat.100.jpg</td>\n",
       "      <td>cat</td>\n",
       "    </tr>\n",
       "    <tr>\n",
       "      <th>4</th>\n",
       "      <td>train/train/cat.1000.jpg</td>\n",
       "      <td>cat</td>\n",
       "    </tr>\n",
       "    <tr>\n",
       "      <th>...</th>\n",
       "      <td>...</td>\n",
       "      <td>...</td>\n",
       "    </tr>\n",
       "    <tr>\n",
       "      <th>24995</th>\n",
       "      <td>train/train/dog.9995.jpg</td>\n",
       "      <td>dog</td>\n",
       "    </tr>\n",
       "    <tr>\n",
       "      <th>24996</th>\n",
       "      <td>train/train/dog.9996.jpg</td>\n",
       "      <td>dog</td>\n",
       "    </tr>\n",
       "    <tr>\n",
       "      <th>24997</th>\n",
       "      <td>train/train/dog.9997.jpg</td>\n",
       "      <td>dog</td>\n",
       "    </tr>\n",
       "    <tr>\n",
       "      <th>24998</th>\n",
       "      <td>train/train/dog.9998.jpg</td>\n",
       "      <td>dog</td>\n",
       "    </tr>\n",
       "    <tr>\n",
       "      <th>24999</th>\n",
       "      <td>train/train/dog.9999.jpg</td>\n",
       "      <td>dog</td>\n",
       "    </tr>\n",
       "  </tbody>\n",
       "</table>\n",
       "<p>25000 rows × 2 columns</p>\n",
       "</div>"
      ],
      "text/plain": [
       "                           PATH targets\n",
       "0         train/train/cat.0.jpg     cat\n",
       "1         train/train/cat.1.jpg     cat\n",
       "2        train/train/cat.10.jpg     cat\n",
       "3       train/train/cat.100.jpg     cat\n",
       "4      train/train/cat.1000.jpg     cat\n",
       "...                         ...     ...\n",
       "24995  train/train/dog.9995.jpg     dog\n",
       "24996  train/train/dog.9996.jpg     dog\n",
       "24997  train/train/dog.9997.jpg     dog\n",
       "24998  train/train/dog.9998.jpg     dog\n",
       "24999  train/train/dog.9999.jpg     dog\n",
       "\n",
       "[25000 rows x 2 columns]"
      ]
     },
     "execution_count": 3,
     "metadata": {},
     "output_type": "execute_result"
    }
   ],
   "source": [
    "# File Path\n",
    "IMAGE_FOLDER_PATH = \"train/train/\"\n",
    "FILE_PATH = [os.path.join(IMAGE_FOLDER_PATH,i) for i in os.listdir(IMAGE_FOLDER_PATH)]\n",
    "\n",
    "# Labels\n",
    "labels=[i for i in os.listdir(IMAGE_FOLDER_PATH)]\n",
    "\n",
    "# Targets\n",
    "targets=[i.split('.')[0] for i in labels]\n",
    "y=targets\n",
    "\n",
    "# Dataframe\n",
    "data = pd.DataFrame({'PATH':FILE_PATH,'targets':targets}) \n",
    "data"
   ]
  },
  {
   "cell_type": "code",
   "execution_count": 4,
   "id": "5c40cd08",
   "metadata": {},
   "outputs": [],
   "source": [
    "from sklearn.model_selection import train_test_split"
   ]
  },
  {
   "cell_type": "code",
   "execution_count": 5,
   "id": "ff7f753a",
   "metadata": {},
   "outputs": [],
   "source": [
    "train_df, val_df = train_test_split(data, test_size=0.2, random_state=101)"
   ]
  },
  {
   "cell_type": "code",
   "execution_count": 6,
   "id": "935ac764",
   "metadata": {},
   "outputs": [
    {
     "data": {
      "text/html": [
       "<div>\n",
       "<style scoped>\n",
       "    .dataframe tbody tr th:only-of-type {\n",
       "        vertical-align: middle;\n",
       "    }\n",
       "\n",
       "    .dataframe tbody tr th {\n",
       "        vertical-align: top;\n",
       "    }\n",
       "\n",
       "    .dataframe thead th {\n",
       "        text-align: right;\n",
       "    }\n",
       "</style>\n",
       "<table border=\"1\" class=\"dataframe\">\n",
       "  <thead>\n",
       "    <tr style=\"text-align: right;\">\n",
       "      <th></th>\n",
       "      <th>PATH</th>\n",
       "      <th>targets</th>\n",
       "    </tr>\n",
       "  </thead>\n",
       "  <tbody>\n",
       "    <tr>\n",
       "      <th>7799</th>\n",
       "      <td>train/train/cat.5768.jpg</td>\n",
       "      <td>cat</td>\n",
       "    </tr>\n",
       "    <tr>\n",
       "      <th>4427</th>\n",
       "      <td>train/train/cat.2732.jpg</td>\n",
       "      <td>cat</td>\n",
       "    </tr>\n",
       "    <tr>\n",
       "      <th>14941</th>\n",
       "      <td>train/train/dog.12194.jpg</td>\n",
       "      <td>dog</td>\n",
       "    </tr>\n",
       "    <tr>\n",
       "      <th>11644</th>\n",
       "      <td>train/train/cat.9228.jpg</td>\n",
       "      <td>cat</td>\n",
       "    </tr>\n",
       "    <tr>\n",
       "      <th>15548</th>\n",
       "      <td>train/train/dog.1491.jpg</td>\n",
       "      <td>dog</td>\n",
       "    </tr>\n",
       "    <tr>\n",
       "      <th>...</th>\n",
       "      <td>...</td>\n",
       "      <td>...</td>\n",
       "    </tr>\n",
       "    <tr>\n",
       "      <th>20060</th>\n",
       "      <td>train/train/dog.5552.jpg</td>\n",
       "      <td>dog</td>\n",
       "    </tr>\n",
       "    <tr>\n",
       "      <th>12413</th>\n",
       "      <td>train/train/cat.9920.jpg</td>\n",
       "      <td>cat</td>\n",
       "    </tr>\n",
       "    <tr>\n",
       "      <th>10648</th>\n",
       "      <td>train/train/cat.8331.jpg</td>\n",
       "      <td>cat</td>\n",
       "    </tr>\n",
       "    <tr>\n",
       "      <th>598</th>\n",
       "      <td>train/train/cat.10535.jpg</td>\n",
       "      <td>cat</td>\n",
       "    </tr>\n",
       "    <tr>\n",
       "      <th>20324</th>\n",
       "      <td>train/train/dog.5790.jpg</td>\n",
       "      <td>dog</td>\n",
       "    </tr>\n",
       "  </tbody>\n",
       "</table>\n",
       "<p>5000 rows × 2 columns</p>\n",
       "</div>"
      ],
      "text/plain": [
       "                            PATH targets\n",
       "7799    train/train/cat.5768.jpg     cat\n",
       "4427    train/train/cat.2732.jpg     cat\n",
       "14941  train/train/dog.12194.jpg     dog\n",
       "11644   train/train/cat.9228.jpg     cat\n",
       "15548   train/train/dog.1491.jpg     dog\n",
       "...                          ...     ...\n",
       "20060   train/train/dog.5552.jpg     dog\n",
       "12413   train/train/cat.9920.jpg     cat\n",
       "10648   train/train/cat.8331.jpg     cat\n",
       "598    train/train/cat.10535.jpg     cat\n",
       "20324   train/train/dog.5790.jpg     dog\n",
       "\n",
       "[5000 rows x 2 columns]"
      ]
     },
     "execution_count": 6,
     "metadata": {},
     "output_type": "execute_result"
    }
   ],
   "source": [
    "val_df"
   ]
  },
  {
   "cell_type": "code",
   "execution_count": 7,
   "id": "74b07a6c",
   "metadata": {},
   "outputs": [],
   "source": [
    "from tensorflow.keras.preprocessing.image import ImageDataGenerator"
   ]
  },
  {
   "cell_type": "code",
   "execution_count": 8,
   "id": "3b96c117",
   "metadata": {},
   "outputs": [],
   "source": [
    "datagen = ImageDataGenerator()"
   ]
  },
  {
   "cell_type": "code",
   "execution_count": 9,
   "id": "eaff1c7e",
   "metadata": {},
   "outputs": [
    {
     "name": "stdout",
     "output_type": "stream",
     "text": [
      "Found 20000 validated image filenames belonging to 2 classes.\n"
     ]
    }
   ],
   "source": [
    "train = datagen.flow_from_dataframe(dataframe=train_df, \n",
    "                                   x_col='PATH', \n",
    "                                   y_col='targets', \n",
    "                                   target_size=(222,222),\n",
    "                                   class_mode='binary',\n",
    "                                   rescale=1./255)"
   ]
  },
  {
   "cell_type": "code",
   "execution_count": 10,
   "id": "726866ed",
   "metadata": {},
   "outputs": [
    {
     "data": {
      "text/plain": [
       "{'cat': 0, 'dog': 1}"
      ]
     },
     "execution_count": 10,
     "metadata": {},
     "output_type": "execute_result"
    }
   ],
   "source": [
    "train.class_indices"
   ]
  },
  {
   "cell_type": "code",
   "execution_count": 11,
   "id": "713b76bf",
   "metadata": {},
   "outputs": [
    {
     "name": "stdout",
     "output_type": "stream",
     "text": [
      "Found 5000 validated image filenames belonging to 2 classes.\n"
     ]
    }
   ],
   "source": [
    "val = datagen.flow_from_dataframe(dataframe=val_df, \n",
    "                                 x_col='PATH', \n",
    "                                 y_col='targets', \n",
    "                                 target_size=(222,222),\n",
    "                                 class_mode='binary', \n",
    "                                 rescale=1./255)"
   ]
  },
  {
   "cell_type": "code",
   "execution_count": 21,
   "id": "78e2f65e",
   "metadata": {},
   "outputs": [
    {
     "data": {
      "text/plain": [
       "{'cat': 0, 'dog': 1}"
      ]
     },
     "execution_count": 21,
     "metadata": {},
     "output_type": "execute_result"
    }
   ],
   "source": [
    "val.class_indices"
   ]
  },
  {
   "cell_type": "code",
   "execution_count": 22,
   "id": "877f7a0d",
   "metadata": {},
   "outputs": [
    {
     "data": {
      "text/plain": [
       "keras.preprocessing.image.DataFrameIterator"
      ]
     },
     "execution_count": 22,
     "metadata": {},
     "output_type": "execute_result"
    }
   ],
   "source": [
    "type(train)"
   ]
  },
  {
   "cell_type": "markdown",
   "id": "a847d559",
   "metadata": {},
   "source": [
    "# model creation"
   ]
  },
  {
   "cell_type": "code",
   "execution_count": 23,
   "id": "81ab8cb3",
   "metadata": {},
   "outputs": [],
   "source": [
    "from tensorflow.keras.callbacks import EarlyStopping"
   ]
  },
  {
   "cell_type": "code",
   "execution_count": 24,
   "id": "23ec7771",
   "metadata": {},
   "outputs": [],
   "source": [
    "es = EarlyStopping(monitor='val_loss', patience=1, mode='min')"
   ]
  },
  {
   "cell_type": "code",
   "execution_count": 25,
   "id": "e17dff4e",
   "metadata": {},
   "outputs": [
    {
     "name": "stdout",
     "output_type": "stream",
     "text": [
      "You must install pydot (`pip install pydot`) and install graphviz (see instructions at https://graphviz.gitlab.io/download/) for plot_model to work.\n",
      "Model: \"model_2\"\n",
      "__________________________________________________________________________________________________\n",
      " Layer (type)                   Output Shape         Param #     Connected to                     \n",
      "==================================================================================================\n",
      " input_3 (InputLayer)           [(None, 222, 222, 3  0           []                               \n",
      "                                )]                                                                \n",
      "                                                                                                  \n",
      " conv2d_30 (Conv2D)             (None, 111, 111, 64  1792        ['input_3[0][0]']                \n",
      "                                )                                                                 \n",
      "                                                                                                  \n",
      " max_pooling2d_2 (MaxPooling2D)  (None, 55, 55, 64)  0           ['conv2d_30[0][0]']              \n",
      "                                                                                                  \n",
      " batch_normalization_24 (BatchN  (None, 55, 55, 64)  256         ['max_pooling2d_2[0][0]']        \n",
      " ormalization)                                                                                    \n",
      "                                                                                                  \n",
      " activation_24 (Activation)     (None, 55, 55, 64)   0           ['batch_normalization_24[0][0]'] \n",
      "                                                                                                  \n",
      " conv2d_31 (Conv2D)             (None, 55, 55, 64)   36928       ['activation_24[0][0]']          \n",
      "                                                                                                  \n",
      " batch_normalization_25 (BatchN  (None, 55, 55, 64)  256         ['conv2d_31[0][0]']              \n",
      " ormalization)                                                                                    \n",
      "                                                                                                  \n",
      " activation_25 (Activation)     (None, 55, 55, 64)   0           ['batch_normalization_25[0][0]'] \n",
      "                                                                                                  \n",
      " conv2d_32 (Conv2D)             (None, 55, 55, 64)   36928       ['activation_25[0][0]']          \n",
      "                                                                                                  \n",
      " add_12 (Add)                   (None, 55, 55, 64)   0           ['max_pooling2d_2[0][0]',        \n",
      "                                                                  'conv2d_32[0][0]']              \n",
      "                                                                                                  \n",
      " batch_normalization_26 (BatchN  (None, 55, 55, 64)  256         ['add_12[0][0]']                 \n",
      " ormalization)                                                                                    \n",
      "                                                                                                  \n",
      " activation_26 (Activation)     (None, 55, 55, 64)   0           ['batch_normalization_26[0][0]'] \n",
      "                                                                                                  \n",
      " conv2d_33 (Conv2D)             (None, 55, 55, 64)   36928       ['activation_26[0][0]']          \n",
      "                                                                                                  \n",
      " batch_normalization_27 (BatchN  (None, 55, 55, 64)  256         ['conv2d_33[0][0]']              \n",
      " ormalization)                                                                                    \n",
      "                                                                                                  \n",
      " activation_27 (Activation)     (None, 55, 55, 64)   0           ['batch_normalization_27[0][0]'] \n",
      "                                                                                                  \n",
      " conv2d_34 (Conv2D)             (None, 55, 55, 64)   36928       ['activation_27[0][0]']          \n",
      "                                                                                                  \n",
      " add_13 (Add)                   (None, 55, 55, 64)   0           ['add_12[0][0]',                 \n",
      "                                                                  'conv2d_34[0][0]']              \n",
      "                                                                                                  \n",
      " batch_normalization_28 (BatchN  (None, 55, 55, 64)  256         ['add_13[0][0]']                 \n",
      " ormalization)                                                                                    \n",
      "                                                                                                  \n",
      " activation_28 (Activation)     (None, 55, 55, 64)   0           ['batch_normalization_28[0][0]'] \n",
      "                                                                                                  \n",
      " conv2d_35 (Conv2D)             (None, 55, 55, 64)   36928       ['activation_28[0][0]']          \n",
      "                                                                                                  \n",
      " batch_normalization_29 (BatchN  (None, 55, 55, 64)  256         ['conv2d_35[0][0]']              \n",
      " ormalization)                                                                                    \n",
      "                                                                                                  \n",
      " activation_29 (Activation)     (None, 55, 55, 64)   0           ['batch_normalization_29[0][0]'] \n",
      "                                                                                                  \n",
      " conv2d_36 (Conv2D)             (None, 55, 55, 64)   36928       ['activation_29[0][0]']          \n",
      "                                                                                                  \n",
      " add_14 (Add)                   (None, 55, 55, 64)   0           ['add_13[0][0]',                 \n",
      "                                                                  'conv2d_36[0][0]']              \n",
      "                                                                                                  \n",
      " conv2d_37 (Conv2D)             (None, 28, 28, 128)  73856       ['add_14[0][0]']                 \n",
      "                                                                                                  \n",
      " conv2d_38 (Conv2D)             (None, 28, 28, 128)  147584      ['conv2d_37[0][0]']              \n",
      "                                                                                                  \n",
      " batch_normalization_30 (BatchN  (None, 28, 28, 128)  512        ['conv2d_38[0][0]']              \n",
      " ormalization)                                                                                    \n",
      "                                                                                                  \n",
      " activation_30 (Activation)     (None, 28, 28, 128)  0           ['batch_normalization_30[0][0]'] \n",
      "                                                                                                  \n",
      " conv2d_39 (Conv2D)             (None, 28, 28, 128)  147584      ['activation_30[0][0]']          \n",
      "                                                                                                  \n",
      " batch_normalization_31 (BatchN  (None, 28, 28, 128)  512        ['conv2d_39[0][0]']              \n",
      " ormalization)                                                                                    \n",
      "                                                                                                  \n",
      " activation_31 (Activation)     (None, 28, 28, 128)  0           ['batch_normalization_31[0][0]'] \n",
      "                                                                                                  \n",
      " conv2d_40 (Conv2D)             (None, 28, 28, 128)  147584      ['activation_31[0][0]']          \n",
      "                                                                                                  \n",
      " add_15 (Add)                   (None, 28, 28, 128)  0           ['conv2d_38[0][0]',              \n",
      "                                                                  'conv2d_40[0][0]']              \n"
     ]
    },
    {
     "name": "stdout",
     "output_type": "stream",
     "text": [
      "                                                                                                  \n",
      " batch_normalization_32 (BatchN  (None, 28, 28, 128)  512        ['add_15[0][0]']                 \n",
      " ormalization)                                                                                    \n",
      "                                                                                                  \n",
      " activation_32 (Activation)     (None, 28, 28, 128)  0           ['batch_normalization_32[0][0]'] \n",
      "                                                                                                  \n",
      " conv2d_41 (Conv2D)             (None, 28, 28, 128)  147584      ['activation_32[0][0]']          \n",
      "                                                                                                  \n",
      " batch_normalization_33 (BatchN  (None, 28, 28, 128)  512        ['conv2d_41[0][0]']              \n",
      " ormalization)                                                                                    \n",
      "                                                                                                  \n",
      " activation_33 (Activation)     (None, 28, 28, 128)  0           ['batch_normalization_33[0][0]'] \n",
      "                                                                                                  \n",
      " conv2d_42 (Conv2D)             (None, 28, 28, 128)  147584      ['activation_33[0][0]']          \n",
      "                                                                                                  \n",
      " add_16 (Add)                   (None, 28, 28, 128)  0           ['add_15[0][0]',                 \n",
      "                                                                  'conv2d_42[0][0]']              \n",
      "                                                                                                  \n",
      " batch_normalization_34 (BatchN  (None, 28, 28, 128)  512        ['add_16[0][0]']                 \n",
      " ormalization)                                                                                    \n",
      "                                                                                                  \n",
      " activation_34 (Activation)     (None, 28, 28, 128)  0           ['batch_normalization_34[0][0]'] \n",
      "                                                                                                  \n",
      " conv2d_43 (Conv2D)             (None, 28, 28, 128)  147584      ['activation_34[0][0]']          \n",
      "                                                                                                  \n",
      " batch_normalization_35 (BatchN  (None, 28, 28, 128)  512        ['conv2d_43[0][0]']              \n",
      " ormalization)                                                                                    \n",
      "                                                                                                  \n",
      " activation_35 (Activation)     (None, 28, 28, 128)  0           ['batch_normalization_35[0][0]'] \n",
      "                                                                                                  \n",
      " conv2d_44 (Conv2D)             (None, 28, 28, 128)  147584      ['activation_35[0][0]']          \n",
      "                                                                                                  \n",
      " add_17 (Add)                   (None, 28, 28, 128)  0           ['add_16[0][0]',                 \n",
      "                                                                  'conv2d_44[0][0]']              \n",
      "                                                                                                  \n",
      " average_pooling2d_2 (AveragePo  (None, 14, 14, 128)  0          ['add_17[0][0]']                 \n",
      " oling2D)                                                                                         \n",
      "                                                                                                  \n",
      " flatten_2 (Flatten)            (None, 25088)        0           ['average_pooling2d_2[0][0]']    \n",
      "                                                                                                  \n",
      " dense_6 (Dense)                (None, 100)          2508900     ['flatten_2[0][0]']              \n",
      "                                                                                                  \n",
      " dense_7 (Dense)                (None, 10)           1010        ['dense_6[0][0]']                \n",
      "                                                                                                  \n",
      " dense_8 (Dense)                (None, 1)            11          ['dense_7[0][0]']                \n",
      "                                                                                                  \n",
      "==================================================================================================\n",
      "Total params: 3,844,833\n",
      "Trainable params: 3,842,529\n",
      "Non-trainable params: 2,304\n",
      "__________________________________________________________________________________________________\n"
     ]
    }
   ],
   "source": [
    "cl_in = Input(shape=(222,222,3))\n",
    "cl_conv_1 = Conv2D(64, 3, strides=2, activation='selu', padding='same', kernel_initializer='lecun_normal')(cl_in)\n",
    "cl_pl_1 = MaxPooling2D()(cl_conv_1)\n",
    "cl_res_1_1 = BatchNormalization()(cl_pl_1)\n",
    "cl_res_1_1 = Activation('relu')(cl_res_1_1)\n",
    "cl_res_1_1 = Conv2D(64, 3, strides=1, padding='same', kernel_initializer='lecun_normal')(cl_res_1_1)\n",
    "cl_res_1_2 = BatchNormalization()(cl_res_1_1)\n",
    "cl_res_1_2 = Activation('relu')(cl_res_1_2)\n",
    "cl_res_1_2 = Conv2D(64, 3, strides=1, padding='same', kernel_initializer='lecun_normal')(cl_res_1_2)\n",
    "cl_res_1_a = Add()([cl_pl_1, cl_res_1_2])\n",
    "cl_res_2_1 = BatchNormalization()(cl_res_1_a)\n",
    "cl_res_2_1 = Activation('relu')(cl_res_2_1)\n",
    "cl_res_2_1 = Conv2D(64, 3, strides=1, padding='same', kernel_initializer='lecun_normal')(cl_res_2_1)\n",
    "cl_res_2_2 = BatchNormalization()(cl_res_2_1)\n",
    "cl_res_2_2 = Activation('relu')(cl_res_2_2)\n",
    "cl_res_2_2 = Conv2D(64, 3, strides=1, padding='same', kernel_initializer='lecun_normal')(cl_res_2_2)\n",
    "cl_res_2_a = Add()([cl_res_1_a, cl_res_2_2])\n",
    "cl_res_3_1 = BatchNormalization()(cl_res_2_a)\n",
    "cl_res_3_1 = Activation('relu')(cl_res_3_1)\n",
    "cl_res_3_1 = Conv2D(64, 3, strides=1, padding='same', kernel_initializer='lecun_normal')(cl_res_3_1)\n",
    "cl_res_3_2 = BatchNormalization()(cl_res_3_1)\n",
    "cl_res_3_2 = Activation('relu')(cl_res_3_2)\n",
    "cl_res_3_2 = Conv2D(64, 3, strides=1, padding='same', kernel_initializer='lecun_normal')(cl_res_3_2)\n",
    "cl_res_3_a = Add()([cl_res_2_a, cl_res_3_2])\n",
    "cl_conv_2  = Conv2D(128, 3, strides=2, padding='same', kernel_initializer='lecun_normal')(cl_res_3_a)\n",
    "cl_conv_2  = Conv2D(128, 3, strides=1, padding='same', kernel_initializer='lecun_normal')(cl_conv_2)\n",
    "cl_res_4_1 = BatchNormalization()(cl_conv_2)\n",
    "cl_res_4_1 = Activation('relu')(cl_res_4_1)\n",
    "cl_res_4_1 = Conv2D(128, 3, strides=1, padding='same', kernel_initializer='lecun_normal')(cl_res_4_1)\n",
    "cl_res_4_2 = BatchNormalization()(cl_res_4_1)\n",
    "cl_res_4_2 = Activation('relu')(cl_res_4_2)\n",
    "cl_res_4_2 = Conv2D(128, 3, strides=1, padding='same', kernel_initializer='lecun_normal')(cl_res_4_2)\n",
    "cl_res_4_a = Add()([cl_conv_2, cl_res_4_2])\n",
    "cl_res_5_1 = BatchNormalization()(cl_res_4_a)\n",
    "cl_res_5_1 = Activation('relu')(cl_res_5_1)\n",
    "cl_res_5_1 = Conv2D(128, 3, strides=1, padding='same', kernel_initializer='lecun_normal')(cl_res_5_1)\n",
    "cl_res_5_2 = BatchNormalization()(cl_res_5_1)\n",
    "cl_res_5_2 = Activation('relu')(cl_res_5_2)\n",
    "cl_res_5_2 = Conv2D(128, 3, strides=1, padding='same', kernel_initializer='lecun_normal')(cl_res_5_2)\n",
    "cl_res_5_a = Add()([cl_res_4_a, cl_res_5_2])\n",
    "cl_res_6_1 = BatchNormalization()(cl_res_5_a)\n",
    "cl_res_6_1 = Activation('relu')(cl_res_6_1)\n",
    "cl_res_6_1 = Conv2D(128, 3, strides=1, padding='same', kernel_initializer='lecun_normal')(cl_res_6_1)\n",
    "cl_res_6_2 = BatchNormalization()(cl_res_6_1)\n",
    "cl_res_6_2 = Activation('relu')(cl_res_6_2)\n",
    "cl_res_6_2 = Conv2D(128, 3, strides=1, padding='same', kernel_initializer='lecun_normal')(cl_res_6_2)\n",
    "cl_res_6_a = Add()([cl_res_5_a, cl_res_6_2])\n",
    "cl_pl_2 = AveragePooling2D()(cl_res_6_a)\n",
    "cl_flatten = Flatten()(cl_pl_2)\n",
    "cl_fc100 = Dense(100, activation='relu')(cl_flatten)\n",
    "cl_fc10 = Dense(10, activation='relu')(cl_fc100)\n",
    "cl_fc2 = Dense(1, activation='sigmoid')(cl_fc10)\n",
    "model = Model(cl_in, cl_fc2)\n",
    "plot_model(model, 'resnet_ReLUBN.png', show_layer_names=False)\n",
    "model.summary()"
   ]
  },
  {
   "cell_type": "code",
   "execution_count": 26,
   "id": "8c91badb",
   "metadata": {},
   "outputs": [
    {
     "name": "stdout",
     "output_type": "stream",
     "text": [
      "Epoch 1/15\n",
      "625/625 [==============================] - 717s 1s/step - loss: 0.7335 - binary_crossentropy: 0.7335 - mse: 0.2519 - acc: 0.5007 - val_loss: 0.6938 - val_binary_crossentropy: 0.6938 - val_mse: 0.2500 - val_acc: 0.4942\n",
      "Epoch 2/15\n",
      "625/625 [==============================] - 709s 1s/step - loss: 0.6932 - binary_crossentropy: 0.6932 - mse: 0.2499 - acc: 0.4989 - val_loss: 0.6943 - val_binary_crossentropy: 0.6943 - val_mse: 0.2502 - val_acc: 0.4932\n"
     ]
    }
   ],
   "source": [
    "OPT = Adam(0.00001)\n",
    "model.compile(loss='binary_crossentropy', optimizer=OPT, metrics=['binary_crossentropy', 'mse','acc'])\n",
    "hist_classifier_ReLUBN_Res = model.fit(train, batch_size=64, epochs=15, validation_data=val, callbacks=[es])"
   ]
  },
  {
   "cell_type": "code",
   "execution_count": null,
   "id": "923f2c21",
   "metadata": {},
   "outputs": [],
   "source": []
  },
  {
   "cell_type": "code",
   "execution_count": null,
   "id": "3e0a9763",
   "metadata": {},
   "outputs": [],
   "source": []
  }
 ],
 "metadata": {
  "kernelspec": {
   "display_name": "Python 3 (ipykernel)",
   "language": "python",
   "name": "python3"
  },
  "language_info": {
   "codemirror_mode": {
    "name": "ipython",
    "version": 3
   },
   "file_extension": ".py",
   "mimetype": "text/x-python",
   "name": "python",
   "nbconvert_exporter": "python",
   "pygments_lexer": "ipython3",
   "version": "3.9.12"
  }
 },
 "nbformat": 4,
 "nbformat_minor": 5
}
